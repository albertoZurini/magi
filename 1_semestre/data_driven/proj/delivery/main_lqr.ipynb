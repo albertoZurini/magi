{
 "cells": [
  {
   "cell_type": "code",
   "execution_count": 1,
   "metadata": {},
   "outputs": [],
   "source": [
    "import gym\n",
    "import glob\n",
    "import io\n",
    "import base64\n",
    "from IPython.display import HTML\n",
    "from pyvirtualdisplay import Display\n",
    "from IPython import display as ipythondisplay\n",
    "from moviepy.editor import ImageSequenceClip\n",
    "\n",
    "import cv2\n",
    "import numpy as np \n",
    "import matplotlib.pyplot as plt\n",
    "import os\n",
    "\n",
    "import random\n",
    "import math\n",
    "\n",
    "display = Display(visible=0, size=(1400, 900))\n",
    "display.start()\n",
    "\n",
    "def show_video():\n",
    "    mp4list = glob.glob('/tmp/*.mp4')\n",
    "    if len(mp4list) > 0:\n",
    "        mp4 = mp4list[0]\n",
    "        video = io.open(mp4, 'r+b').read()\n",
    "        encoded = base64.b64encode(video)\n",
    "        ipythondisplay.display(HTML(data='''<video alt=\"test\" autoplay \n",
    "                    loop controls style=\"height: 400px;\">\n",
    "                    <source src=\"data:video/mp4;base64,{0}\" type=\"video/mp4\" />\n",
    "                 </video>'''.format(encoded.decode('ascii'))))\n",
    "    else: \n",
    "        print(\"Could not find video\")"
   ]
  },
  {
   "cell_type": "code",
   "execution_count": 2,
   "metadata": {},
   "outputs": [
    {
     "data": {
      "text/plain": [
       "<matplotlib.image.AxesImage at 0x75398296ef50>"
      ]
     },
     "execution_count": 2,
     "metadata": {},
     "output_type": "execute_result"
    },
    {
     "data": {
      "image/png": "[encoded data removed]",
      "text/plain": [
       "<Figure size 640x480 with 1 Axes>"
      ]
     },
     "metadata": {},
     "output_type": "display_data"
    }
   ],
   "source": [
    "env = gym.make('CarRacing-v2')\n",
    "\n",
    "observation, _ = env.reset()\n",
    "env.render()\n",
    "\n",
    "# Clear frames\n",
    "for i in range(100):\n",
    "    action = (0,0,0)\n",
    "    observation, reward, done, _, info = env.step(action)\n",
    "\n",
    "plt.imshow(observation)"
   ]
  },
  {
   "cell_type": "markdown",
   "metadata": {},
   "source": [
    "# State description\n",
    "\n",
    "$$\n",
    "\\begin{bmatrix} car \\; position  \\end{bmatrix}\n",
    "$$"
   ]
  },
  {
   "cell_type": "code",
   "execution_count": null,
   "metadata": {},
   "outputs": [],
   "source": [
    "class EnvironmentProcessor:\n",
    "    def green_mask(self, observation):\n",
    "        hsv = cv2.cvtColor(observation, cv2.COLOR_BGR2HSV)\n",
    "        mask_green = cv2.inRange(hsv, (36, 25, 25), (70, 255,255))\n",
    "\n",
    "        ## slice the green\n",
    "        imask_green = mask_green>0\n",
    "        green = np.zeros_like(observation, np.uint8)\n",
    "        green[imask_green] = observation[imask_green]\n",
    "        return(green)\n",
    "\n",
    "    def blur_image(self, observation):\n",
    "        blur = cv2.GaussianBlur(observation, (5, 5), 0)\n",
    "        return blur\n",
    "\n",
    "    def canny_edge_detector(self, observation):\n",
    "        canny = cv2.Canny(observation, 50, 150)\n",
    "        return canny\n",
    "\n",
    "    def find_error(self, observation, previous_error):\n",
    "        cropped = observation[63:65, 24:73]\n",
    "\n",
    "        green = self.green_mask(cropped)\n",
    "        blur  = self.blur_image(green)\n",
    "        canny = self.canny_edge_detector(blur)\n",
    "\n",
    "        nz = cv2.findNonZero(canny)\n",
    "\n",
    "        # Horizontal cordinates of center of the road in the cropped slice\n",
    "        reference_position  = 24\n",
    "        estimated_position = (nz[:,0,0].max() + nz[:,0,0].min())/2\n",
    "        \n",
    "        return estimated_position - reference_position\n",
    "\n",
    "    def get_speed(self, env):\n",
    "        true_speed = np.sqrt(\n",
    "            np.square(env.car.hull.linearVelocity[0])\n",
    "            + np.square(env.car.hull.linearVelocity[1])\n",
    "        )\n",
    "        return true_speed"
   ]
  },
  {
   "cell_type": "code",
   "execution_count": null,
   "metadata": {},
   "outputs": [],
   "source": [
    "def pid_speed(error,previous_error):\n",
    "    Kp = 0.0001\n",
    "    Ki = 0.03\n",
    "    Kd = 0.3\n",
    "\n",
    "    speed = Kp * error + Ki * (error + previous_error) + Kd * (error - previous_error)\n",
    "\n",
    "    return speed"
   ]
  }
 ],
 "metadata": {
  "kernelspec": {
   "display_name": "py37",
   "language": "python",
   "name": "python3"
  },
  "language_info": {
   "codemirror_mode": {
    "name": "ipython",
    "version": 3
   },
   "file_extension": ".py",
   "mimetype": "text/x-python",
   "name": "python",
   "nbconvert_exporter": "python",
   "pygments_lexer": "ipython3",
   "version": "3.7.16"
  }
 },
 "nbformat": 4,
 "nbformat_minor": 2
}
